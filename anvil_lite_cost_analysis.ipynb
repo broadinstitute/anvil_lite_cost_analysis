{
 "cells": [
  {
   "cell_type": "markdown",
   "metadata": {},
   "source": [
    "# Anvil Lite Cost Analysis"
   ]
  },
  {
   "cell_type": "markdown",
   "metadata": {},
   "source": [
    "## Initial setup\n",
    "\n",
    "Make sure to fill in `<REDACTED>` variables with their proper values."
   ]
  },
  {
   "cell_type": "code",
   "execution_count": null,
   "metadata": {
    "tags": []
   },
   "outputs": [],
   "source": [
    "# You will need to reinstall the dependencies every time you restart the kernel. \n",
    "# Otherwise, you can skip this cell.\n",
    "\n",
    "!git clone https://github.com/broadinstitute/anvil_lite_cost_analysis.git\n",
    "!pip install ./anvil_lite_cost_analysis"
   ]
  },
  {
   "cell_type": "code",
   "execution_count": null,
   "metadata": {
    "tags": []
   },
   "outputs": [],
   "source": [
    "# You must import these dependencies every time the notebook is restarted\n",
    "\n",
    "import os\n",
    "import pandas as pd\n",
    "from anvil_lite_cost_analysis import alca\n"
   ]
  },
  {
   "cell_type": "code",
   "execution_count": null,
   "metadata": {
    "tags": []
   },
   "outputs": [],
   "source": [
    "# Set variables. These will need updates when copying this notebook elsewhere!\n",
    "\n",
    "config = alca.Config(\n",
    "    wsm_url=\"https://workspace.dsde-prod.broadinstitute.org\",\n",
    "    rawls_url=\"https://rawls.dsde-prod.broadinstitute.org\",\n",
    "    current_workspace_id = os.environ['WORKSPACE_ID'],\n",
    "    subscription_id = \"<REDACTED>\",\n",
    "    storage_account = \"<REDACTED>\",\n",
    "    target_mrgs = [\n",
    "        \"<REDACTED>\", \n",
    "        \"<REDACTED>_aks\"\n",
    "    ],\n",
    "    container_name = os.environ['WORKSPACE_STORAGE_CONTAINER_URL'].split('/')[-1],\n",
    "    container_id = os.environ['WORKSPACE_STORAGE_CONTAINER_ID'],\n",
    "    blob_inventory_name = \"AnvilLite_Azure_blob_inventory\",\n",
    "    blob_inventory_prefix = \"2024\",\n",
    "    cost_management_storage_account = \"costandstorageexports\",\n",
    "    cost_management_storage_container = \"costanalysis\",\n",
    "    cost_management_directory = \"landingzone\",\n",
    "    aks_management_storage_account = \"costandstorageexports\",\n",
    "    aks_management_storage_container = \"costanalysis\",\n",
    "    aks_management_directory = \"aks\",\n",
    "    local_costs_url = \"costexport/latest.csv\",\n",
    "    local_aks_costs_url = \"costexport/latest-aks.csv\",\n",
    "    analysis_window_size = 30,\n",
    "    cost_column_name = \"PreTaxCost\"\n",
    ")"
   ]
  },
  {
   "cell_type": "code",
   "execution_count": null,
   "metadata": {
    "tags": []
   },
   "outputs": [],
   "source": [
    "####################################################################################################\n",
    "####################################################################################################\n",
    "####################################################################################################\n",
    "#################### SECRETS #######################################################################\n",
    "#################### remove these values from the notebook before sharing ##########################\n",
    "\n",
    "# cost management account key\n",
    "# TODO: figure out IAM-based auth instead!\n",
    "cost_management_key = \"<REDACTED>\"\n",
    "\n",
    "####################################################################################################\n",
    "####################################################################################################\n",
    "####################################################################################################"
   ]
  },
  {
   "cell_type": "markdown",
   "metadata": {},
   "source": [
    "## Authorization\n",
    "\n",
    "These two steps ensure you are authorized. You may need to re-run these steps if you have been working in the notebook for a significant amount of time and suddenly encounter permission problems."
   ]
  },
  {
   "cell_type": "code",
   "execution_count": null,
   "metadata": {
    "tags": []
   },
   "outputs": [],
   "source": [
    "azure_token = alca.get_azure_token()"
   ]
  },
  {
   "cell_type": "code",
   "execution_count": null,
   "metadata": {
    "tags": []
   },
   "outputs": [],
   "source": [
    "sas_token = alca.get_sas_token(azure_token, config)"
   ]
  },
  {
   "cell_type": "markdown",
   "metadata": {},
   "source": [
    "## Find the latest (and previous month's) cost exports"
   ]
  },
  {
   "cell_type": "code",
   "execution_count": null,
   "metadata": {
    "tags": []
   },
   "outputs": [],
   "source": [
    "# Retrieves the exports from Microsoft.\n",
    "# You should run this each time the notebook is restarted.\n",
    "exports = alca.get_exports(cost_management_key, config)"
   ]
  },
  {
   "cell_type": "code",
   "execution_count": null,
   "metadata": {
    "tags": []
   },
   "outputs": [],
   "source": [
    "# Copies the exports into this workspace's storage.\n",
    "# You can skip this if you've already copied today's exports.\n",
    "responses = alca.copy_exports_to_workspace(exports, sas_token, cost_management_key, config)"
   ]
  },
  {
   "cell_type": "markdown",
   "metadata": {},
   "source": [
    "## Analysis\n",
    "\n",
    "The remainder of steps in this notebook need to run for every analysis."
   ]
  },
  {
   "cell_type": "code",
   "execution_count": null,
   "metadata": {
    "tags": []
   },
   "outputs": [],
   "source": [
    "analysis_data = alca.build_analysis_dataframes(exports, azure_token, sas_token, config)\n",
    "\n",
    "storage_grouped = analysis_data.storage_grouped\n",
    "costs = analysis_data.costs\n",
    "costs_grouped = analysis_data.costs_grouped\n",
    "costs_workspace_grouped = analysis_data.costs_workspace_grouped\n",
    "costs_shared_grouped = analysis_data.costs_shared_grouped"
   ]
  },
  {
   "cell_type": "code",
   "execution_count": null,
   "metadata": {
    "tags": []
   },
   "outputs": [],
   "source": [
    "# display, using the human-readable string\n",
    "display(storage_grouped[[\"workspace_or_container\", \"Total Size\"]])"
   ]
  },
  {
   "cell_type": "code",
   "execution_count": null,
   "metadata": {
    "tags": []
   },
   "outputs": [],
   "source": [
    "# plot the storage inventory\n",
    "\n",
    "# how many rows to show?\n",
    "topN = 25\n",
    "\n",
    "ax = storage_grouped[:topN].plot.barh(x=\"workspace_or_container\", y=\"MB\",\n",
    "                                      logx=False, figsize=(7,7),\n",
    "                                      xlabel = \"MB\",\n",
    "                                      title=\"Top \" + str(topN) + \" workspaces or containers by size\")\n",
    "_ = ax.invert_yaxis()\n",
    "# add labels to each bar\n",
    "_ = ax.bar_label(ax.containers[0])\n"
   ]
  },
  {
   "cell_type": "code",
   "execution_count": null,
   "metadata": {
    "tags": []
   },
   "outputs": [],
   "source": [
    "# display shared costs\n",
    "print(\"====== landing zone shared costs =====\")\n",
    "display(costs_shared_grouped[[\"MeterCategory\", \"Total Cost\"]])\n",
    "# display per-workspace costs\n",
    "print(\"====== per-workspace costs =====\")\n",
    "display(costs_workspace_grouped[[\"workspace_name\", \"Total Cost\"]])\n",
    "\n",
    "# display all costs\n",
    "print(\"====== all costs =====\")\n",
    "display(costs_grouped[[\"workspace_or_category\", \"Total Cost\"]])"
   ]
  },
  {
   "cell_type": "code",
   "execution_count": null,
   "metadata": {
    "tags": []
   },
   "outputs": [],
   "source": [
    "# plot the per-workspace costs\n",
    "\n",
    "# how many rows to show?\n",
    "topNCost = 25\n",
    "\n",
    "axc = costs_grouped[:topNCost].plot.barh(x=\"workspace_or_category\", y=config.cost_column_name,\n",
    "                                      logx=False, figsize=(7,7),\n",
    "                                         xlabel=\"Total Cost\",\n",
    "                                      title=\"Top \" + str(topNCost) + f\" workspaces or services by cost, previous {config.analysis_window_size} days\")\n",
    "_ = axc.invert_yaxis()\n",
    "\n",
    "# labels for bars\n",
    "_ = axc.bar_label(axc.containers[0])\n",
    "\n"
   ]
  },
  {
   "cell_type": "code",
   "execution_count": null,
   "metadata": {
    "tags": []
   },
   "outputs": [],
   "source": [
    "# Enter the exact name of a cost category to use for drilldown:\n",
    "# drilldown_cost_category = \"AnVIL_Lite_Harvard_Carey_20240628\"\n",
    "drilldown_cost_category = \"Virtual Machines (shared)\"\n",
    "# drilldown_cost_category = \"da-costmanagement-01\"\n",
    "\n",
    "\n",
    "costs_drilldown = costs[costs[\"workspace_or_category\"] == drilldown_cost_category].groupby([\"workspace_or_category\", \"MeterCategory\", \"MeterSubcategory\", \"MeterName\"], dropna=False)[config.cost_column_name].sum().to_frame().sort_values(by=config.cost_column_name, ascending=False).reset_index()\n",
    "costs_drilldown[\"Total Cost\"] = costs_drilldown[config.cost_column_name].map(\"${:,.2f}\".format)\n",
    "display(costs_drilldown[[\"workspace_or_category\", \"MeterCategory\", \"MeterSubcategory\", \"MeterName\", \"Total Cost\"]])\n"
   ]
  }
 ],
 "metadata": {
  "kernelspec": {
   "display_name": "Python 3 (ipykernel)",
   "language": "python",
   "name": "python3"
  },
  "language_info": {
   "codemirror_mode": {
    "name": "ipython",
    "version": 3
   },
   "file_extension": ".py",
   "mimetype": "text/x-python",
   "name": "python",
   "nbconvert_exporter": "python",
   "pygments_lexer": "ipython3",
   "version": "3.8.16"
  }
 },
 "nbformat": 4,
 "nbformat_minor": 4
}
